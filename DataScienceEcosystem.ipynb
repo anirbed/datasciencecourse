{
 "cells": [
  {
   "cell_type": "markdown",
   "id": "8b740610-fc8e-4af1-b551-11e45be243a4",
   "metadata": {
    "tags": []
   },
   "source": [
    "# Data Science Tools and Ecosystem"
   ]
  },
  {
   "cell_type": "markdown",
   "id": "1dd47a27-0959-4d6b-bc69-9788eb46ffd1",
   "metadata": {},
   "source": [
    "In this notebook, Data Science Tools and Ecosystem are summarized."
   ]
  },
  {
   "cell_type": "markdown",
   "id": "6fe184f8-1094-49d8-a97e-d56cbccc7540",
   "metadata": {},
   "source": [
    "**Some of the popular languagaes that Data Scientists use are:**\n",
    "\n",
    "1. Python\n",
    "2. R\n",
    "3. Julia"
   ]
  },
  {
   "cell_type": "markdown",
   "id": "91e8081d-bd41-40f0-99fc-a95211407298",
   "metadata": {},
   "source": [
    "**Some of the commonly used libraries used by Data Scientists include:**\n",
    "\n",
    "1. Scikit Learn\n",
    "2. Tensor Flow\n",
    "3. Keras"
   ]
  },
  {
   "cell_type": "markdown",
   "id": "a4c53617-33ac-4de1-af08-04ffb8709e37",
   "metadata": {
    "tags": []
   },
   "source": [
    "|Data Science Tools|\n",
    "|------------------|\n",
    "|Jupyter Notebooks|\n",
    "|R Studio|\n",
    "|Zeppelin|\n",
    "|Spyder|"
   ]
  },
  {
   "cell_type": "markdown",
   "id": "e39e9652-bac6-44ef-a03d-a1e9f70878f5",
   "metadata": {},
   "source": [
    "### Below are a few examples of evaluating arithmetic expressions in Python\n",
    "\n"
   ]
  },
  {
   "cell_type": "code",
   "execution_count": 5,
   "id": "e1c87fa2-4945-4dbe-ae48-3f2183660f84",
   "metadata": {
    "tags": []
   },
   "outputs": [
    {
     "data": {
      "text/plain": [
       "17"
      ]
     },
     "execution_count": 5,
     "metadata": {},
     "output_type": "execute_result"
    }
   ],
   "source": [
    "# This a simple arithmetic expression to mutiply then add integers\n",
    "\n",
    "(3*4)+5"
   ]
  },
  {
   "cell_type": "code",
   "execution_count": 7,
   "id": "c9debe6c-72ec-477a-9c86-e3900c8658a3",
   "metadata": {
    "tags": []
   },
   "outputs": [
    {
     "name": "stdout",
     "output_type": "stream",
     "text": [
      "3.3333333333333335\n"
     ]
    }
   ],
   "source": [
    "# This will convert 200 minutes to hours by diving by 60\n",
    "\n",
    "minutes = 200\n",
    "\n",
    "hours = minutes/60\n",
    "\n",
    "print(hours)"
   ]
  },
  {
   "cell_type": "markdown",
   "id": "fd3e63cc-4155-4984-bfc9-29eadfb6b4f2",
   "metadata": {},
   "source": [
    "**Objectives:**\n",
    "\n",
    "- List popular languages for Data Science\n",
    "- List popular IDEs for Data Science\n",
    "- List common Data Science libraries\n"
   ]
  },
  {
   "cell_type": "markdown",
   "id": "6b009882-6601-4d21-aa87-60906becb30e",
   "metadata": {},
   "source": [
    "## Author\n",
    "\n",
    "Anirbed"
   ]
  },
  {
   "cell_type": "code",
   "execution_count": null,
   "id": "caac6f26-0e2a-43b8-b4ee-d8b405e58a8b",
   "metadata": {},
   "outputs": [],
   "source": []
  }
 ],
 "metadata": {
  "kernelspec": {
   "display_name": "Python",
   "language": "python",
   "name": "conda-env-python-py"
  },
  "language_info": {
   "codemirror_mode": {
    "name": "ipython",
    "version": 3
   },
   "file_extension": ".py",
   "mimetype": "text/x-python",
   "name": "python",
   "nbconvert_exporter": "python",
   "pygments_lexer": "ipython3",
   "version": "3.7.12"
  }
 },
 "nbformat": 4,
 "nbformat_minor": 5
}
