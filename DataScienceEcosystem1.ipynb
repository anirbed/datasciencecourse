{
 "cells": [
  {
   "cell_type": "markdown",
   "id": "f689f55a-5fd8-46c4-a475-c73d3782f821",
   "metadata": {},
   "source": [
    "<center>\n",
    "    <img src=\"https://cf-courses-data.s3.us.cloud-object-storage.appdomain.cloud/IBMDeveloperSkillsNetwork-DS0105EN-SkillsNetwork/labs/Module2/images/SN_web_lightmode.png\" width=\"300\" alt=\"cognitiveclass.ai logo\">\n",
    "</center>"
   ]
  },
  {
   "cell_type": "markdown",
   "id": "0b1fa9aa-d407-4706-9343-6a56ce7d0f09",
   "metadata": {},
   "source": [
    "#### Add your code below following the instructions given in the course\n"
   ]
  },
  {
   "cell_type": "markdown",
   "id": "8b740610-fc8e-4af1-b551-11e45be243a4",
   "metadata": {
    "tags": []
   },
   "source": [
    "# Data Science Tools and Ecosystem"
   ]
  },
  {
   "cell_type": "markdown",
   "id": "1dd47a27-0959-4d6b-bc69-9788eb46ffd1",
   "metadata": {},
   "source": [
    "In this notebook, Data Science Tools and Ecosystem are summarized."
   ]
  },
  {
   "cell_type": "markdown",
   "id": "6fe184f8-1094-49d8-a97e-d56cbccc7540",
   "metadata": {},
   "source": [
    "**Some of the popular languagaes that Data Scientists use are:**\n",
    "\n",
    "1. Python\n",
    "2. R\n",
    "3. Julia"
   ]
  },
  {
   "cell_type": "markdown",
   "id": "91e8081d-bd41-40f0-99fc-a95211407298",
   "metadata": {},
   "source": [
    "**Some of the commonly used libraries used by Data Scientists include:**\n",
    "\n",
    "1. Scikit Learn\n",
    "2. Tensor Flow\n",
    "3. Keras"
   ]
  },
  {
   "cell_type": "markdown",
   "id": "a4c53617-33ac-4de1-af08-04ffb8709e37",
   "metadata": {
    "tags": []
   },
   "source": [
    "|Data Science Tools|\n",
    "|------------------|\n",
    "|Jupyter Notebooks|\n",
    "|R Studio|\n",
    "|Zeppelin|\n",
    "|Spyder|"
   ]
  },
  {
   "cell_type": "markdown",
   "id": "e39e9652-bac6-44ef-a03d-a1e9f70878f5",
   "metadata": {
    "tags": []
   },
   "source": [
    "### Below are a few examples of evaluating arithmetic expressions in Python"
   ]
  },
  {
   "cell_type": "code",
   "execution_count": 8,
   "id": "e1c87fa2-4945-4dbe-ae48-3f2183660f84",
   "metadata": {
    "tags": []
   },
   "outputs": [
    {
     "data": {
      "text/plain": [
       "17"
      ]
     },
     "execution_count": 8,
     "metadata": {},
     "output_type": "execute_result"
    }
   ],
   "source": [
    "# This a simple arithmetic expression to mutiply then add integers\n",
    "\n",
    "(3*4)+5"
   ]
  },
  {
   "cell_type": "code",
   "execution_count": 11,
   "id": "c9debe6c-72ec-477a-9c86-e3900c8658a3",
   "metadata": {
    "tags": []
   },
   "outputs": [
    {
     "data": {
      "text/plain": [
       "3.3333333333333335"
      ]
     },
     "execution_count": 11,
     "metadata": {},
     "output_type": "execute_result"
    }
   ],
   "source": [
    "# This will convert 200 minutes to hours by diving by 60\n",
    "\n",
    "200/60"
   ]
  },
  {
   "cell_type": "markdown",
   "id": "fd3e63cc-4155-4984-bfc9-29eadfb6b4f2",
   "metadata": {},
   "source": [
    "**Objectives:**\n",
    "\n",
    "- List popular languages for Data Science\n",
    "- List popular IDEs for Data Science\n",
    "- List common Data Science libraries\n"
   ]
  },
  {
   "cell_type": "markdown",
   "id": "6b009882-6601-4d21-aa87-60906becb30e",
   "metadata": {},
   "source": [
    "## Author\n",
    "\n",
    "Anirbed"
   ]
  }
 ],
 "metadata": {
  "kernelspec": {
   "display_name": "Python",
   "language": "python",
   "name": "conda-env-python-py"
  },
  "language_info": {
   "codemirror_mode": {
    "name": "ipython",
    "version": 3
   },
   "file_extension": ".py",
   "mimetype": "text/x-python",
   "name": "python",
   "nbconvert_exporter": "python",
   "pygments_lexer": "ipython3",
   "version": "3.7.12"
  }
 },
 "nbformat": 4,
 "nbformat_minor": 5
}
